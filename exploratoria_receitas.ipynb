{
 "cells": [
  {
   "cell_type": "markdown",
   "metadata": {},
   "source": [
    "# Análise das receitas da prefeitura de João Pessoa"
   ]
  },
  {
   "cell_type": "code",
   "execution_count": 259,
   "metadata": {},
   "outputs": [
    {
     "name": "stderr",
     "output_type": "stream",
     "text": [
      "11976.67s - pydevd: Sending message related to process being replaced timed-out after 5 seconds\n"
     ]
    },
    {
     "name": "stdout",
     "output_type": "stream",
     "text": [
      "Requirement already satisfied: pandas in ./.venv/lib/python3.11/site-packages (2.2.2)\n",
      "Requirement already satisfied: numpy>=1.23.2 in ./.venv/lib/python3.11/site-packages (from pandas) (1.26.4)\n",
      "Requirement already satisfied: python-dateutil>=2.8.2 in ./.venv/lib/python3.11/site-packages (from pandas) (2.9.0.post0)\n",
      "Requirement already satisfied: pytz>=2020.1 in ./.venv/lib/python3.11/site-packages (from pandas) (2024.1)\n",
      "Requirement already satisfied: tzdata>=2022.7 in ./.venv/lib/python3.11/site-packages (from pandas) (2024.1)\n",
      "Requirement already satisfied: six>=1.5 in ./.venv/lib/python3.11/site-packages (from python-dateutil>=2.8.2->pandas) (1.16.0)\n",
      "Note: you may need to restart the kernel to use updated packages.\n"
     ]
    },
    {
     "name": "stderr",
     "output_type": "stream",
     "text": [
      "11983.20s - pydevd: Sending message related to process being replaced timed-out after 5 seconds\n"
     ]
    },
    {
     "name": "stdout",
     "output_type": "stream",
     "text": [
      "Requirement already satisfied: matplotlib in ./.venv/lib/python3.11/site-packages (3.8.4)\n",
      "Requirement already satisfied: contourpy>=1.0.1 in ./.venv/lib/python3.11/site-packages (from matplotlib) (1.2.1)\n",
      "Requirement already satisfied: cycler>=0.10 in ./.venv/lib/python3.11/site-packages (from matplotlib) (0.12.1)\n",
      "Requirement already satisfied: fonttools>=4.22.0 in ./.venv/lib/python3.11/site-packages (from matplotlib) (4.51.0)\n",
      "Requirement already satisfied: kiwisolver>=1.3.1 in ./.venv/lib/python3.11/site-packages (from matplotlib) (1.4.5)\n",
      "Requirement already satisfied: numpy>=1.21 in ./.venv/lib/python3.11/site-packages (from matplotlib) (1.26.4)\n",
      "Requirement already satisfied: packaging>=20.0 in ./.venv/lib/python3.11/site-packages (from matplotlib) (24.0)\n",
      "Requirement already satisfied: pillow>=8 in ./.venv/lib/python3.11/site-packages (from matplotlib) (10.3.0)\n",
      "Requirement already satisfied: pyparsing>=2.3.1 in ./.venv/lib/python3.11/site-packages (from matplotlib) (3.1.2)\n",
      "Requirement already satisfied: python-dateutil>=2.7 in ./.venv/lib/python3.11/site-packages (from matplotlib) (2.9.0.post0)\n",
      "Requirement already satisfied: six>=1.5 in ./.venv/lib/python3.11/site-packages (from python-dateutil>=2.7->matplotlib) (1.16.0)\n",
      "Note: you may need to restart the kernel to use updated packages.\n"
     ]
    }
   ],
   "source": [
    "#Imports\n",
    "%pip install pandas\n",
    "%pip install matplotlib\n",
    "import pandas as pd"
   ]
  },
  {
   "cell_type": "code",
   "execution_count": 260,
   "metadata": {},
   "outputs": [],
   "source": [
    "# Read data\n",
    "df2021 = pd.read_csv(filepath_or_buffer='./data/2021.csv', sep='|')\n",
    "df2022 = pd.read_csv(filepath_or_buffer='./data/2022.csv', sep='|')\n",
    "df2023 = pd.read_csv(filepath_or_buffer='./data/2023.csv', sep='|')\n",
    "df2024 = pd.read_csv(filepath_or_buffer='./data/2024.csv', sep='|')"
   ]
  },
  {
   "cell_type": "code",
   "execution_count": 261,
   "metadata": {},
   "outputs": [
    {
     "data": {
      "text/plain": [
       "[mes_ano_referencia     object\n",
       " codigo_recebimento      int64\n",
       " descricao_receita      object\n",
       " fonte_recurso          object\n",
       " nome_entidade          object\n",
       " valor                 float64\n",
       " dtype: object,\n",
       " mes_ano_referencia     object\n",
       " codigo_recebimento      int64\n",
       " descricao_receita      object\n",
       " fonte_recurso          object\n",
       " nome_entidade          object\n",
       " valor                 float64\n",
       " dtype: object,\n",
       " mes_ano_referencia     object\n",
       " codigo_recebimento      int64\n",
       " descricao_receita      object\n",
       " fonte_recurso          object\n",
       " nome_entidade          object\n",
       " valor                 float64\n",
       " dtype: object,\n",
       " mes_ano_referencia     object\n",
       " codigo_recebimento      int64\n",
       " descricao_receita      object\n",
       " fonte_recurso          object\n",
       " nome_entidade          object\n",
       " valor                 float64\n",
       " dtype: object]"
      ]
     },
     "execution_count": 261,
     "metadata": {},
     "output_type": "execute_result"
    }
   ],
   "source": [
    "dtypes =[\n",
    "    df2021.dtypes,\n",
    "    df2022.dtypes,\n",
    "    df2023.dtypes,\n",
    "    df2024.dtypes\n",
    "]\n",
    "dtypes"
   ]
  },
  {
   "cell_type": "code",
   "execution_count": 262,
   "metadata": {},
   "outputs": [
    {
     "name": "stderr",
     "output_type": "stream",
     "text": [
      "/var/folders/31/7kmxtjyn24q81lyl0b_12p8r0000gn/T/ipykernel_70227/1841760440.py:5: UserWarning: Could not infer format, so each element will be parsed individually, falling back to `dateutil`. To ensure parsing is consistent and as-expected, please specify a format.\n",
      "  df['mes_ano'] = pd.to_datetime(df['mes_ano_referencia'])\n"
     ]
    },
    {
     "data": {
      "text/html": [
       "<div>\n",
       "<style scoped>\n",
       "    .dataframe tbody tr th:only-of-type {\n",
       "        vertical-align: middle;\n",
       "    }\n",
       "\n",
       "    .dataframe tbody tr th {\n",
       "        vertical-align: top;\n",
       "    }\n",
       "\n",
       "    .dataframe thead th {\n",
       "        text-align: right;\n",
       "    }\n",
       "</style>\n",
       "<table border=\"1\" class=\"dataframe\">\n",
       "  <thead>\n",
       "    <tr style=\"text-align: right;\">\n",
       "      <th></th>\n",
       "      <th>mes_ano_referencia</th>\n",
       "      <th>codigo_recebimento</th>\n",
       "      <th>descricao_receita</th>\n",
       "      <th>fonte_recurso</th>\n",
       "      <th>nome_entidade</th>\n",
       "      <th>valor</th>\n",
       "      <th>mes_ano</th>\n",
       "      <th>ano</th>\n",
       "      <th>trimestre</th>\n",
       "      <th>trimestre_id</th>\n",
       "    </tr>\n",
       "  </thead>\n",
       "  <tbody>\n",
       "    <tr>\n",
       "      <th>0</th>\n",
       "      <td>1/2021</td>\n",
       "      <td>1990991100</td>\n",
       "      <td>OUTRAS RECEITAS - PRIMARIAS - PRINCIPAL</td>\n",
       "      <td>0.209-OUTROS RECURSOS NAO VINCULADOS</td>\n",
       "      <td>AUTARQUIA ESPECIAL MUNICIPAL DE LIMPEZA URBANA...</td>\n",
       "      <td>3683.95</td>\n",
       "      <td>2021-01-01</td>\n",
       "      <td>2021</td>\n",
       "      <td>2021Q1</td>\n",
       "      <td>1</td>\n",
       "    </tr>\n",
       "    <tr>\n",
       "      <th>1</th>\n",
       "      <td>1/2021</td>\n",
       "      <td>1122011100</td>\n",
       "      <td>TAXAS PELA PRESTACAO DE SERVICOS - PRINCIPAL</td>\n",
       "      <td>0.209-OUTROS RECURSOS NAO VINCULADOS</td>\n",
       "      <td>AUTARQUIA ESPECIAL MUNICIPAL DE LIMPEZA URBANA...</td>\n",
       "      <td>136915.73</td>\n",
       "      <td>2021-01-01</td>\n",
       "      <td>2021</td>\n",
       "      <td>2021Q1</td>\n",
       "      <td>1</td>\n",
       "    </tr>\n",
       "    <tr>\n",
       "      <th>2</th>\n",
       "      <td>1/2021</td>\n",
       "      <td>1321001100</td>\n",
       "      <td>REMUNERACAO DE DEPOSITOS BANCARIOS - PRINCIPAL</td>\n",
       "      <td>0.209-OUTROS RECURSOS NAO VINCULADOS</td>\n",
       "      <td>AUTARQUIA ESPECIAL MUNICIPAL DE LIMPEZA URBANA...</td>\n",
       "      <td>155.56</td>\n",
       "      <td>2021-01-01</td>\n",
       "      <td>2021</td>\n",
       "      <td>2021Q1</td>\n",
       "      <td>1</td>\n",
       "    </tr>\n",
       "  </tbody>\n",
       "</table>\n",
       "</div>"
      ],
      "text/plain": [
       "  mes_ano_referencia  codigo_recebimento  \\\n",
       "0             1/2021          1990991100   \n",
       "1             1/2021          1122011100   \n",
       "2             1/2021          1321001100   \n",
       "\n",
       "                                descricao_receita  \\\n",
       "0         OUTRAS RECEITAS - PRIMARIAS - PRINCIPAL   \n",
       "1    TAXAS PELA PRESTACAO DE SERVICOS - PRINCIPAL   \n",
       "2  REMUNERACAO DE DEPOSITOS BANCARIOS - PRINCIPAL   \n",
       "\n",
       "                          fonte_recurso  \\\n",
       "0  0.209-OUTROS RECURSOS NAO VINCULADOS   \n",
       "1  0.209-OUTROS RECURSOS NAO VINCULADOS   \n",
       "2  0.209-OUTROS RECURSOS NAO VINCULADOS   \n",
       "\n",
       "                                       nome_entidade     valor    mes_ano  \\\n",
       "0  AUTARQUIA ESPECIAL MUNICIPAL DE LIMPEZA URBANA...   3683.95 2021-01-01   \n",
       "1  AUTARQUIA ESPECIAL MUNICIPAL DE LIMPEZA URBANA... 136915.73 2021-01-01   \n",
       "2  AUTARQUIA ESPECIAL MUNICIPAL DE LIMPEZA URBANA...    155.56 2021-01-01   \n",
       "\n",
       "    ano trimestre  trimestre_id  \n",
       "0  2021    2021Q1             1  \n",
       "1  2021    2021Q1             1  \n",
       "2  2021    2021Q1             1  "
      ]
     },
     "execution_count": 262,
     "metadata": {},
     "output_type": "execute_result"
    }
   ],
   "source": [
    "# concat all data frames\n",
    "pd.set_option(\"float_format\",'{:.2f}'.format)\n",
    "df = pd.concat([df2021, df2022, df2023, df2024])\n",
    "\n",
    "df['mes_ano'] = pd.to_datetime(df['mes_ano_referencia'])\n",
    "df['ano'] = df['mes_ano'].dt.year\n",
    "df['trimestre'] = df['mes_ano'].dt.to_period(\"Q\")\n",
    "df['trimestre_id'] = df['mes_ano'].dt.quarter\n",
    "df.head(3)"
   ]
  },
  {
   "cell_type": "code",
   "execution_count": 263,
   "metadata": {},
   "outputs": [
    {
     "data": {
      "text/html": [
       "<div>\n",
       "<style scoped>\n",
       "    .dataframe tbody tr th:only-of-type {\n",
       "        vertical-align: middle;\n",
       "    }\n",
       "\n",
       "    .dataframe tbody tr th {\n",
       "        vertical-align: top;\n",
       "    }\n",
       "\n",
       "    .dataframe thead th {\n",
       "        text-align: right;\n",
       "    }\n",
       "</style>\n",
       "<table border=\"1\" class=\"dataframe\">\n",
       "  <thead>\n",
       "    <tr style=\"text-align: right;\">\n",
       "      <th></th>\n",
       "      <th>codigo_recebimento</th>\n",
       "      <th>valor</th>\n",
       "      <th>mes_ano</th>\n",
       "      <th>ano</th>\n",
       "      <th>trimestre_id</th>\n",
       "    </tr>\n",
       "  </thead>\n",
       "  <tbody>\n",
       "    <tr>\n",
       "      <th>count</th>\n",
       "      <td>4216.00</td>\n",
       "      <td>4216.00</td>\n",
       "      <td>4216</td>\n",
       "      <td>4216.00</td>\n",
       "      <td>4216.00</td>\n",
       "    </tr>\n",
       "    <tr>\n",
       "      <th>mean</th>\n",
       "      <td>1773965062.34</td>\n",
       "      <td>2647656.63</td>\n",
       "      <td>2022-08-11 16:11:02.618595840</td>\n",
       "      <td>2022.15</td>\n",
       "      <td>2.52</td>\n",
       "    </tr>\n",
       "    <tr>\n",
       "      <th>min</th>\n",
       "      <td>1112500100.00</td>\n",
       "      <td>0.00</td>\n",
       "      <td>2021-01-01 00:00:00</td>\n",
       "      <td>2021.00</td>\n",
       "      <td>1.00</td>\n",
       "    </tr>\n",
       "    <tr>\n",
       "      <th>25%</th>\n",
       "      <td>1321001100.00</td>\n",
       "      <td>7505.56</td>\n",
       "      <td>2021-11-01 00:00:00</td>\n",
       "      <td>2021.00</td>\n",
       "      <td>1.00</td>\n",
       "    </tr>\n",
       "    <tr>\n",
       "      <th>50%</th>\n",
       "      <td>1321010100.00</td>\n",
       "      <td>105383.88</td>\n",
       "      <td>2022-09-01 00:00:00</td>\n",
       "      <td>2022.00</td>\n",
       "      <td>3.00</td>\n",
       "    </tr>\n",
       "    <tr>\n",
       "      <th>75%</th>\n",
       "      <td>1728012100.00</td>\n",
       "      <td>1118118.88</td>\n",
       "      <td>2023-06-01 00:00:00</td>\n",
       "      <td>2023.00</td>\n",
       "      <td>4.00</td>\n",
       "    </tr>\n",
       "    <tr>\n",
       "      <th>max</th>\n",
       "      <td>7631990100.00</td>\n",
       "      <td>101321872.00</td>\n",
       "      <td>2024-02-01 00:00:00</td>\n",
       "      <td>2024.00</td>\n",
       "      <td>4.00</td>\n",
       "    </tr>\n",
       "    <tr>\n",
       "      <th>std</th>\n",
       "      <td>1274010999.37</td>\n",
       "      <td>7491176.55</td>\n",
       "      <td>NaN</td>\n",
       "      <td>0.89</td>\n",
       "      <td>1.14</td>\n",
       "    </tr>\n",
       "  </tbody>\n",
       "</table>\n",
       "</div>"
      ],
      "text/plain": [
       "       codigo_recebimento        valor                        mes_ano     ano  \\\n",
       "count             4216.00      4216.00                           4216 4216.00   \n",
       "mean        1773965062.34   2647656.63  2022-08-11 16:11:02.618595840 2022.15   \n",
       "min         1112500100.00         0.00            2021-01-01 00:00:00 2021.00   \n",
       "25%         1321001100.00      7505.56            2021-11-01 00:00:00 2021.00   \n",
       "50%         1321010100.00    105383.88            2022-09-01 00:00:00 2022.00   \n",
       "75%         1728012100.00   1118118.88            2023-06-01 00:00:00 2023.00   \n",
       "max         7631990100.00 101321872.00            2024-02-01 00:00:00 2024.00   \n",
       "std         1274010999.37   7491176.55                            NaN    0.89   \n",
       "\n",
       "       trimestre_id  \n",
       "count       4216.00  \n",
       "mean           2.52  \n",
       "min            1.00  \n",
       "25%            1.00  \n",
       "50%            3.00  \n",
       "75%            4.00  \n",
       "max            4.00  \n",
       "std            1.14  "
      ]
     },
     "execution_count": 263,
     "metadata": {},
     "output_type": "execute_result"
    }
   ],
   "source": [
    "df.describe()"
   ]
  },
  {
   "cell_type": "markdown",
   "metadata": {},
   "source": [
    "## Lista descrição receita"
   ]
  },
  {
   "cell_type": "code",
   "execution_count": 264,
   "metadata": {},
   "outputs": [
    {
     "data": {
      "text/html": [
       "<div>\n",
       "<style scoped>\n",
       "    .dataframe tbody tr th:only-of-type {\n",
       "        vertical-align: middle;\n",
       "    }\n",
       "\n",
       "    .dataframe tbody tr th {\n",
       "        vertical-align: top;\n",
       "    }\n",
       "\n",
       "    .dataframe thead th {\n",
       "        text-align: right;\n",
       "    }\n",
       "</style>\n",
       "<table border=\"1\" class=\"dataframe\">\n",
       "  <thead>\n",
       "    <tr style=\"text-align: right;\">\n",
       "      <th></th>\n",
       "      <th>descricoes_receitas</th>\n",
       "    </tr>\n",
       "  </thead>\n",
       "  <tbody>\n",
       "    <tr>\n",
       "      <th>102</th>\n",
       "      <td>ALUGUEIS E ARRENDAMENTOS - PRINCIPAL</td>\n",
       "    </tr>\n",
       "    <tr>\n",
       "      <th>91</th>\n",
       "      <td>AMORTIZACAO DE EMPRESTIMOS CONTRATUAIS</td>\n",
       "    </tr>\n",
       "    <tr>\n",
       "      <th>63</th>\n",
       "      <td>AMORTIZACAO DE EMPRESTIMOS CONTRATUAIS - PRINC...</td>\n",
       "    </tr>\n",
       "  </tbody>\n",
       "</table>\n",
       "</div>"
      ],
      "text/plain": [
       "                                   descricoes_receitas\n",
       "102               ALUGUEIS E ARRENDAMENTOS - PRINCIPAL\n",
       "91              AMORTIZACAO DE EMPRESTIMOS CONTRATUAIS\n",
       "63   AMORTIZACAO DE EMPRESTIMOS CONTRATUAIS - PRINC..."
      ]
     },
     "execution_count": 264,
     "metadata": {},
     "output_type": "execute_result"
    }
   ],
   "source": [
    "descricoes_receitas = pd.DataFrame(df[\"descricao_receita\"].unique(), columns=[\"descricoes_receitas\"]).sort_values(\"descricoes_receitas\")\n",
    "\n",
    "descricoes_receitas.head(3)"
   ]
  },
  {
   "cell_type": "markdown",
   "metadata": {},
   "source": [
    "## Lista fonte recurso"
   ]
  },
  {
   "cell_type": "code",
   "execution_count": 265,
   "metadata": {},
   "outputs": [
    {
     "data": {
      "text/html": [
       "<div>\n",
       "<style scoped>\n",
       "    .dataframe tbody tr th:only-of-type {\n",
       "        vertical-align: middle;\n",
       "    }\n",
       "\n",
       "    .dataframe tbody tr th {\n",
       "        vertical-align: top;\n",
       "    }\n",
       "\n",
       "    .dataframe thead th {\n",
       "        text-align: right;\n",
       "    }\n",
       "</style>\n",
       "<table border=\"1\" class=\"dataframe\">\n",
       "  <thead>\n",
       "    <tr style=\"text-align: right;\">\n",
       "      <th></th>\n",
       "      <th>fontes_recursos</th>\n",
       "    </tr>\n",
       "  </thead>\n",
       "  <tbody>\n",
       "    <tr>\n",
       "      <th>79</th>\n",
       "      <td># TRANSFERENCIAS ACS.</td>\n",
       "    </tr>\n",
       "    <tr>\n",
       "      <th>71</th>\n",
       "      <td>#.TRANSFERENCIAS SUS DO GOVERNO FEDERAL - MANU...</td>\n",
       "    </tr>\n",
       "    <tr>\n",
       "      <th>77</th>\n",
       "      <td>#DEMAIS TRANSFERENCIAS.</td>\n",
       "    </tr>\n",
       "  </tbody>\n",
       "</table>\n",
       "</div>"
      ],
      "text/plain": [
       "                                      fontes_recursos\n",
       "79                              # TRANSFERENCIAS ACS.\n",
       "71  #.TRANSFERENCIAS SUS DO GOVERNO FEDERAL - MANU...\n",
       "77                            #DEMAIS TRANSFERENCIAS."
      ]
     },
     "execution_count": 265,
     "metadata": {},
     "output_type": "execute_result"
    }
   ],
   "source": [
    "fontes_recursos = pd.DataFrame(df[\"fonte_recurso\"].unique(), columns=[\"fontes_recursos\"]).sort_values(\"fontes_recursos\")\n",
    "\n",
    "fontes_recursos.head(3)"
   ]
  },
  {
   "cell_type": "markdown",
   "metadata": {},
   "source": [
    "## Lista entidades"
   ]
  },
  {
   "cell_type": "code",
   "execution_count": 266,
   "metadata": {},
   "outputs": [
    {
     "data": {
      "text/html": [
       "<div>\n",
       "<style scoped>\n",
       "    .dataframe tbody tr th:only-of-type {\n",
       "        vertical-align: middle;\n",
       "    }\n",
       "\n",
       "    .dataframe tbody tr th {\n",
       "        vertical-align: top;\n",
       "    }\n",
       "\n",
       "    .dataframe thead th {\n",
       "        text-align: right;\n",
       "    }\n",
       "</style>\n",
       "<table border=\"1\" class=\"dataframe\">\n",
       "  <thead>\n",
       "    <tr style=\"text-align: right;\">\n",
       "      <th></th>\n",
       "      <th>entidades</th>\n",
       "    </tr>\n",
       "  </thead>\n",
       "  <tbody>\n",
       "    <tr>\n",
       "      <th>0</th>\n",
       "      <td>AUTARQUIA ESPECIAL MUNICIPAL DE LIMPEZA URBANA...</td>\n",
       "    </tr>\n",
       "    <tr>\n",
       "      <th>1</th>\n",
       "      <td>FUNDACAO CULTURAL DE JOAO PESSOA</td>\n",
       "    </tr>\n",
       "    <tr>\n",
       "      <th>2</th>\n",
       "      <td>FUNDO DE GESTAO, DESENVOLVIMENTO E MODERNIZACA...</td>\n",
       "    </tr>\n",
       "  </tbody>\n",
       "</table>\n",
       "</div>"
      ],
      "text/plain": [
       "                                           entidades\n",
       "0  AUTARQUIA ESPECIAL MUNICIPAL DE LIMPEZA URBANA...\n",
       "1                   FUNDACAO CULTURAL DE JOAO PESSOA\n",
       "2  FUNDO DE GESTAO, DESENVOLVIMENTO E MODERNIZACA..."
      ]
     },
     "execution_count": 266,
     "metadata": {},
     "output_type": "execute_result"
    }
   ],
   "source": [
    "entidades = pd.DataFrame(df[\"nome_entidade\"].unique(), columns=[\"entidades\"]).sort_values(\"entidades\")\n",
    "\n",
    "entidades.head(3)"
   ]
  },
  {
   "cell_type": "markdown",
   "metadata": {},
   "source": [
    "## Total por ano"
   ]
  },
  {
   "cell_type": "code",
   "execution_count": 267,
   "metadata": {},
   "outputs": [
    {
     "data": {
      "text/plain": [
       "Text(0.5, 1.0, 'Valor total de receita por ano')"
      ]
     },
     "execution_count": 267,
     "metadata": {},
     "output_type": "execute_result"
    },
    {
     "data": {
      "image/png": "[encoded data removed]",
      "text/plain": [
       "<Figure size 640x480 with 1 Axes>"
      ]
     },
     "metadata": {},
     "output_type": "display_data"
    }
   ],
   "source": [
    "total_ano = df[[\"ano\", \"valor\"]].groupby(\"ano\").sum()\n",
    "total_ano[\"valor\"] = total_ano[\"valor\"].div(1_000_000_000)\n",
    "ax = total_ano.plot.barh()\n",
    "ax.legend([\"valor em bilhão\"])\n",
    "ax.set_title(\"Valor total de receita por ano\")"
   ]
  },
  {
   "cell_type": "markdown",
   "metadata": {},
   "source": [
    "## Total por trimestre"
   ]
  },
  {
   "cell_type": "code",
   "execution_count": 268,
   "metadata": {},
   "outputs": [
    {
     "data": {
      "text/plain": [
       "<matplotlib.legend.Legend at 0x12dcf3ed0>"
      ]
     },
     "execution_count": 268,
     "metadata": {},
     "output_type": "execute_result"
    },
    {
     "data": {
      "image/png": "[encoded data removed]",
      "text/plain": [
       "<Figure size 640x480 with 1 Axes>"
      ]
     },
     "metadata": {},
     "output_type": "display_data"
    }
   ],
   "source": [
    "pd.options.mode.copy_on_write = True\n",
    "valor_trimestre = df[[\"ano\",\"trimestre_id\",\"valor\"]]\n",
    "\n",
    "valor_trimestre[\"valor\"] = valor_trimestre[\"valor\"].div(1_000_000)\n",
    "valor_trimestre = pd.pivot_table(valor_trimestre,\n",
    "                                 values=\"valor\",\n",
    "                                 columns=[\"trimestre_id\"],\n",
    "                                 index=[\"ano\"],\n",
    "                                 aggfunc=\"sum\")\n",
    "\n",
    "valor_trimestre = pd.DataFrame(valor_trimestre, index=valor_trimestre.index.values)\n",
    "ax = valor_trimestre.plot.bar(rot=0)\n",
    "ax.set_title(\"Valor das receitas trimestre por ano\")\n",
    "ax.set_xlabel(\"ano\")\n",
    "ax.set_ylabel(\"valor por 1M\")\n",
    "ax.legend([\"1º semestre\",\"2º semestre\",\"3º semestre\",\"4º semestre\"])\n"
   ]
  },
  {
   "cell_type": "markdown",
   "metadata": {},
   "source": [
    "## Total por receita"
   ]
  },
  {
   "cell_type": "code",
   "execution_count": 286,
   "metadata": {},
   "outputs": [],
   "source": [
    "M = 1_000_000\n",
    "\n",
    "ranges={ \n",
    "    \"A\":[(150 * M), (1500 * M)],\n",
    "    \"B\":[(15* M), (150 * M)],\n",
    "    \"C\":[(5 * M), (15 * M)],\n",
    "    \"D\":[(1 * M), (5 * M)],\n",
    "    \"E\":[(0.5 * M), (1 * M)],\n",
    "    \"F\":[(0), (0.5 * M)],\n",
    "}\n",
    "\n",
    "def classifica_valor_receita_anual(valor):\n",
    "\n",
    "    for v in ranges.items():\n",
    "        if valor >= v[1][0] and valor <= v[1][1]:\n",
    "            return v[0]"
   ]
  },
  {
   "cell_type": "markdown",
   "metadata": {},
   "source": [
    "### Fontes com valores totais maiores que 100M"
   ]
  },
  {
   "cell_type": "code",
   "execution_count": 289,
   "metadata": {},
   "outputs": [
    {
     "data": {
      "text/plain": [
       "<Axes: xlabel='classe'>"
      ]
     },
     "execution_count": 289,
     "metadata": {},
     "output_type": "execute_result"
    },
    {
     "data": {
      "image/png": "[encoded data removed]",
      "text/plain": [
       "<Figure size 640x480 with 1 Axes>"
      ]
     },
     "metadata": {},
     "output_type": "display_data"
    }
   ],
   "source": [
    "total_fonte = df[[\"descricao_receita\",\"valor\"]].groupby([\"descricao_receita\"]).sum()\n",
    "total_fonte[\"classe\"] =  total_fonte.apply(lambda x: classifica_valor_receita_anual(x[\"valor\"]), axis=1) \n",
    "total_fonte = total_fonte.groupby([\"classe\"]).count()\n",
    "total_fonte.plot.bar(rot=0)"
   ]
  }
 ],
 "metadata": {
  "kernelspec": {
   "display_name": ".venv",
   "language": "python",
   "name": "python3"
  },
  "language_info": {
   "codemirror_mode": {
    "name": "ipython",
    "version": 3
   },
   "file_extension": ".py",
   "mimetype": "text/x-python",
   "name": "python",
   "nbconvert_exporter": "python",
   "pygments_lexer": "ipython3",
   "version": "3.11.8"
  }
 },
 "nbformat": 4,
 "nbformat_minor": 2
}
