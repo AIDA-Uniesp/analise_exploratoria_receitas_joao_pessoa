{
 "cells": [
  {
   "cell_type": "markdown",
   "metadata": {},
   "source": [
    "# Análise das receitas da prefeitura de João Pessoa"
   ]
  },
  {
   "cell_type": "code",
   "execution_count": 308,
   "metadata": {},
   "outputs": [
    {
     "name": "stdout",
     "output_type": "stream",
     "text": [
      "Requirement already satisfied: pandas in .\\.venv\\lib\\site-packages (2.2.1)\n",
      "Requirement already satisfied: numpy<2,>=1.22.4 in .\\.venv\\lib\\site-packages (from pandas) (1.26.4)\n",
      "Requirement already satisfied: python-dateutil>=2.8.2 in .\\.venv\\lib\\site-packages (from pandas) (2.9.0.post0)\n",
      "Requirement already satisfied: pytz>=2020.1 in .\\.venv\\lib\\site-packages (from pandas) (2024.1)\n",
      "Requirement already satisfied: tzdata>=2022.7 in .\\.venv\\lib\\site-packages (from pandas) (2024.1)\n",
      "Requirement already satisfied: six>=1.5 in .\\.venv\\lib\\site-packages (from python-dateutil>=2.8.2->pandas) (1.16.0)\n",
      "Note: you may need to restart the kernel to use updated packages.\n"
     ]
    }
   ],
   "source": [
    "#Imports\n",
    "%pip install pandas\n",
    "import pandas as pd\n"
   ]
  },
  {
   "cell_type": "code",
   "execution_count": 309,
   "metadata": {},
   "outputs": [],
   "source": [
    "# Read data\n",
    "df2021 = pd.read_csv(filepath_or_buffer='./data/2021.csv', sep='|')\n",
    "df2022 = pd.read_csv(filepath_or_buffer='./data/2022.csv', sep='|')\n",
    "df2023 = pd.read_csv(filepath_or_buffer='./data/2023.csv', sep='|')\n",
    "df2024 = pd.read_csv(filepath_or_buffer='./data/2024.csv', sep='|')"
   ]
  },
  {
   "cell_type": "code",
   "execution_count": 310,
   "metadata": {},
   "outputs": [
    {
     "data": {
      "text/plain": [
       "[mes_ano_referencia     object\n",
       " codigo_recebimento      int64\n",
       " descricao_receita      object\n",
       " fonte_recurso          object\n",
       " nome_entidade          object\n",
       " valor                 float64\n",
       " dtype: object,\n",
       " mes_ano_referencia     object\n",
       " codigo_recebimento      int64\n",
       " descricao_receita      object\n",
       " fonte_recurso          object\n",
       " nome_entidade          object\n",
       " valor                 float64\n",
       " dtype: object,\n",
       " mes_ano_referencia     object\n",
       " codigo_recebimento      int64\n",
       " descricao_receita      object\n",
       " fonte_recurso          object\n",
       " nome_entidade          object\n",
       " valor                 float64\n",
       " dtype: object,\n",
       " mes_ano_referencia     object\n",
       " codigo_recebimento      int64\n",
       " descricao_receita      object\n",
       " fonte_recurso          object\n",
       " nome_entidade          object\n",
       " valor                 float64\n",
       " dtype: object]"
      ]
     },
     "execution_count": 310,
     "metadata": {},
     "output_type": "execute_result"
    }
   ],
   "source": [
    "dtypes =[\n",
    "    df2021.dtypes,\n",
    "    df2022.dtypes,\n",
    "    df2023.dtypes,\n",
    "    df2024.dtypes\n",
    "]\n",
    "dtypes"
   ]
  },
  {
   "cell_type": "code",
   "execution_count": 311,
   "metadata": {},
   "outputs": [
    {
     "name": "stderr",
     "output_type": "stream",
     "text": [
      "C:\\Users\\jerso\\AppData\\Local\\Temp\\ipykernel_20596\\1841760440.py:5: UserWarning: Could not infer format, so each element will be parsed individually, falling back to `dateutil`. To ensure parsing is consistent and as-expected, please specify a format.\n",
      "  df['mes_ano'] = pd.to_datetime(df['mes_ano_referencia'])\n"
     ]
    },
    {
     "data": {
      "text/html": [
       "<div>\n",
       "<style scoped>\n",
       "    .dataframe tbody tr th:only-of-type {\n",
       "        vertical-align: middle;\n",
       "    }\n",
       "\n",
       "    .dataframe tbody tr th {\n",
       "        vertical-align: top;\n",
       "    }\n",
       "\n",
       "    .dataframe thead th {\n",
       "        text-align: right;\n",
       "    }\n",
       "</style>\n",
       "<table border=\"1\" class=\"dataframe\">\n",
       "  <thead>\n",
       "    <tr style=\"text-align: right;\">\n",
       "      <th></th>\n",
       "      <th>mes_ano_referencia</th>\n",
       "      <th>codigo_recebimento</th>\n",
       "      <th>descricao_receita</th>\n",
       "      <th>fonte_recurso</th>\n",
       "      <th>nome_entidade</th>\n",
       "      <th>valor</th>\n",
       "      <th>mes_ano</th>\n",
       "      <th>ano</th>\n",
       "      <th>trimestre</th>\n",
       "      <th>trimestre_id</th>\n",
       "    </tr>\n",
       "  </thead>\n",
       "  <tbody>\n",
       "    <tr>\n",
       "      <th>0</th>\n",
       "      <td>1/2021</td>\n",
       "      <td>1990991100</td>\n",
       "      <td>OUTRAS RECEITAS - PRIMARIAS - PRINCIPAL</td>\n",
       "      <td>0.209-OUTROS RECURSOS NAO VINCULADOS</td>\n",
       "      <td>AUTARQUIA ESPECIAL MUNICIPAL DE LIMPEZA URBANA...</td>\n",
       "      <td>3683.95</td>\n",
       "      <td>2021-01-01</td>\n",
       "      <td>2021</td>\n",
       "      <td>2021Q1</td>\n",
       "      <td>1</td>\n",
       "    </tr>\n",
       "    <tr>\n",
       "      <th>1</th>\n",
       "      <td>1/2021</td>\n",
       "      <td>1122011100</td>\n",
       "      <td>TAXAS PELA PRESTACAO DE SERVICOS - PRINCIPAL</td>\n",
       "      <td>0.209-OUTROS RECURSOS NAO VINCULADOS</td>\n",
       "      <td>AUTARQUIA ESPECIAL MUNICIPAL DE LIMPEZA URBANA...</td>\n",
       "      <td>136915.73</td>\n",
       "      <td>2021-01-01</td>\n",
       "      <td>2021</td>\n",
       "      <td>2021Q1</td>\n",
       "      <td>1</td>\n",
       "    </tr>\n",
       "    <tr>\n",
       "      <th>2</th>\n",
       "      <td>1/2021</td>\n",
       "      <td>1321001100</td>\n",
       "      <td>REMUNERACAO DE DEPOSITOS BANCARIOS - PRINCIPAL</td>\n",
       "      <td>0.209-OUTROS RECURSOS NAO VINCULADOS</td>\n",
       "      <td>AUTARQUIA ESPECIAL MUNICIPAL DE LIMPEZA URBANA...</td>\n",
       "      <td>155.56</td>\n",
       "      <td>2021-01-01</td>\n",
       "      <td>2021</td>\n",
       "      <td>2021Q1</td>\n",
       "      <td>1</td>\n",
       "    </tr>\n",
       "  </tbody>\n",
       "</table>\n",
       "</div>"
      ],
      "text/plain": [
       "  mes_ano_referencia  codigo_recebimento  \\\n",
       "0             1/2021          1990991100   \n",
       "1             1/2021          1122011100   \n",
       "2             1/2021          1321001100   \n",
       "\n",
       "                                descricao_receita  \\\n",
       "0         OUTRAS RECEITAS - PRIMARIAS - PRINCIPAL   \n",
       "1    TAXAS PELA PRESTACAO DE SERVICOS - PRINCIPAL   \n",
       "2  REMUNERACAO DE DEPOSITOS BANCARIOS - PRINCIPAL   \n",
       "\n",
       "                          fonte_recurso  \\\n",
       "0  0.209-OUTROS RECURSOS NAO VINCULADOS   \n",
       "1  0.209-OUTROS RECURSOS NAO VINCULADOS   \n",
       "2  0.209-OUTROS RECURSOS NAO VINCULADOS   \n",
       "\n",
       "                                       nome_entidade     valor    mes_ano  \\\n",
       "0  AUTARQUIA ESPECIAL MUNICIPAL DE LIMPEZA URBANA...   3683.95 2021-01-01   \n",
       "1  AUTARQUIA ESPECIAL MUNICIPAL DE LIMPEZA URBANA... 136915.73 2021-01-01   \n",
       "2  AUTARQUIA ESPECIAL MUNICIPAL DE LIMPEZA URBANA...    155.56 2021-01-01   \n",
       "\n",
       "    ano trimestre  trimestre_id  \n",
       "0  2021    2021Q1             1  \n",
       "1  2021    2021Q1             1  \n",
       "2  2021    2021Q1             1  "
      ]
     },
     "execution_count": 311,
     "metadata": {},
     "output_type": "execute_result"
    }
   ],
   "source": [
    "# concat all data frames\n",
    "pd.set_option(\"float_format\",'{:.2f}'.format)\n",
    "df = pd.concat([df2021, df2022, df2023, df2024])\n",
    "\n",
    "df['mes_ano'] = pd.to_datetime(df['mes_ano_referencia'])\n",
    "df['ano'] = df['mes_ano'].dt.year\n",
    "df['trimestre'] = df['mes_ano'].dt.to_period(\"Q\")\n",
    "df['trimestre_id'] = df['mes_ano'].dt.quarter\n",
    "df.head(3)"
   ]
  },
  {
   "cell_type": "markdown",
   "metadata": {},
   "source": [
    "## Lista descrição receita"
   ]
  },
  {
   "cell_type": "code",
   "execution_count": 312,
   "metadata": {},
   "outputs": [
    {
     "data": {
      "text/html": [
       "<div>\n",
       "<style scoped>\n",
       "    .dataframe tbody tr th:only-of-type {\n",
       "        vertical-align: middle;\n",
       "    }\n",
       "\n",
       "    .dataframe tbody tr th {\n",
       "        vertical-align: top;\n",
       "    }\n",
       "\n",
       "    .dataframe thead th {\n",
       "        text-align: right;\n",
       "    }\n",
       "</style>\n",
       "<table border=\"1\" class=\"dataframe\">\n",
       "  <thead>\n",
       "    <tr style=\"text-align: right;\">\n",
       "      <th></th>\n",
       "      <th>descricoes_receitas</th>\n",
       "    </tr>\n",
       "  </thead>\n",
       "  <tbody>\n",
       "    <tr>\n",
       "      <th>102</th>\n",
       "      <td>ALUGUEIS E ARRENDAMENTOS - PRINCIPAL</td>\n",
       "    </tr>\n",
       "    <tr>\n",
       "      <th>91</th>\n",
       "      <td>AMORTIZACAO DE EMPRESTIMOS CONTRATUAIS</td>\n",
       "    </tr>\n",
       "    <tr>\n",
       "      <th>63</th>\n",
       "      <td>AMORTIZACAO DE EMPRESTIMOS CONTRATUAIS - PRINC...</td>\n",
       "    </tr>\n",
       "  </tbody>\n",
       "</table>\n",
       "</div>"
      ],
      "text/plain": [
       "                                   descricoes_receitas\n",
       "102               ALUGUEIS E ARRENDAMENTOS - PRINCIPAL\n",
       "91              AMORTIZACAO DE EMPRESTIMOS CONTRATUAIS\n",
       "63   AMORTIZACAO DE EMPRESTIMOS CONTRATUAIS - PRINC..."
      ]
     },
     "execution_count": 312,
     "metadata": {},
     "output_type": "execute_result"
    }
   ],
   "source": [
    "descricoes_receitas = pd.DataFrame(df[\"descricao_receita\"].unique(), columns=[\"descricoes_receitas\"]).sort_values(\"descricoes_receitas\")\n",
    "\n",
    "descricoes_receitas.head(3)"
   ]
  },
  {
   "cell_type": "markdown",
   "metadata": {},
   "source": [
    "## Lista fonte recurso"
   ]
  },
  {
   "cell_type": "code",
   "execution_count": 313,
   "metadata": {},
   "outputs": [
    {
     "data": {
      "text/html": [
       "<div>\n",
       "<style scoped>\n",
       "    .dataframe tbody tr th:only-of-type {\n",
       "        vertical-align: middle;\n",
       "    }\n",
       "\n",
       "    .dataframe tbody tr th {\n",
       "        vertical-align: top;\n",
       "    }\n",
       "\n",
       "    .dataframe thead th {\n",
       "        text-align: right;\n",
       "    }\n",
       "</style>\n",
       "<table border=\"1\" class=\"dataframe\">\n",
       "  <thead>\n",
       "    <tr style=\"text-align: right;\">\n",
       "      <th></th>\n",
       "      <th>fontes_recursos</th>\n",
       "    </tr>\n",
       "  </thead>\n",
       "  <tbody>\n",
       "    <tr>\n",
       "      <th>79</th>\n",
       "      <td># TRANSFERENCIAS ACS.</td>\n",
       "    </tr>\n",
       "    <tr>\n",
       "      <th>71</th>\n",
       "      <td>#.TRANSFERENCIAS SUS DO GOVERNO FEDERAL - MANU...</td>\n",
       "    </tr>\n",
       "    <tr>\n",
       "      <th>77</th>\n",
       "      <td>#DEMAIS TRANSFERENCIAS.</td>\n",
       "    </tr>\n",
       "  </tbody>\n",
       "</table>\n",
       "</div>"
      ],
      "text/plain": [
       "                                      fontes_recursos\n",
       "79                              # TRANSFERENCIAS ACS.\n",
       "71  #.TRANSFERENCIAS SUS DO GOVERNO FEDERAL - MANU...\n",
       "77                            #DEMAIS TRANSFERENCIAS."
      ]
     },
     "execution_count": 313,
     "metadata": {},
     "output_type": "execute_result"
    }
   ],
   "source": [
    "fontes_recursos = pd.DataFrame(df[\"fonte_recurso\"].unique(), columns=[\"fontes_recursos\"]).sort_values(\"fontes_recursos\")\n",
    "\n",
    "fontes_recursos.head(3)"
   ]
  },
  {
   "cell_type": "markdown",
   "metadata": {},
   "source": [
    "## Lista entidades"
   ]
  },
  {
   "cell_type": "code",
   "execution_count": 314,
   "metadata": {},
   "outputs": [
    {
     "data": {
      "text/html": [
       "<div>\n",
       "<style scoped>\n",
       "    .dataframe tbody tr th:only-of-type {\n",
       "        vertical-align: middle;\n",
       "    }\n",
       "\n",
       "    .dataframe tbody tr th {\n",
       "        vertical-align: top;\n",
       "    }\n",
       "\n",
       "    .dataframe thead th {\n",
       "        text-align: right;\n",
       "    }\n",
       "</style>\n",
       "<table border=\"1\" class=\"dataframe\">\n",
       "  <thead>\n",
       "    <tr style=\"text-align: right;\">\n",
       "      <th></th>\n",
       "      <th>entidades</th>\n",
       "    </tr>\n",
       "  </thead>\n",
       "  <tbody>\n",
       "    <tr>\n",
       "      <th>0</th>\n",
       "      <td>AUTARQUIA ESPECIAL MUNICIPAL DE LIMPEZA URBANA...</td>\n",
       "    </tr>\n",
       "    <tr>\n",
       "      <th>1</th>\n",
       "      <td>FUNDACAO CULTURAL DE JOAO PESSOA</td>\n",
       "    </tr>\n",
       "    <tr>\n",
       "      <th>2</th>\n",
       "      <td>FUNDO DE GESTAO, DESENVOLVIMENTO E MODERNIZACA...</td>\n",
       "    </tr>\n",
       "  </tbody>\n",
       "</table>\n",
       "</div>"
      ],
      "text/plain": [
       "                                           entidades\n",
       "0  AUTARQUIA ESPECIAL MUNICIPAL DE LIMPEZA URBANA...\n",
       "1                   FUNDACAO CULTURAL DE JOAO PESSOA\n",
       "2  FUNDO DE GESTAO, DESENVOLVIMENTO E MODERNIZACA..."
      ]
     },
     "execution_count": 314,
     "metadata": {},
     "output_type": "execute_result"
    }
   ],
   "source": [
    "entidades = pd.DataFrame(df[\"nome_entidade\"].unique(), columns=[\"entidades\"]).sort_values(\"entidades\")\n",
    "\n",
    "entidades.head(3)"
   ]
  },
  {
   "cell_type": "markdown",
   "metadata": {},
   "source": [
    "## Total por ano"
   ]
  },
  {
   "cell_type": "code",
   "execution_count": 315,
   "metadata": {},
   "outputs": [
    {
     "data": {
      "text/html": [
       "<div>\n",
       "<style scoped>\n",
       "    .dataframe tbody tr th:only-of-type {\n",
       "        vertical-align: middle;\n",
       "    }\n",
       "\n",
       "    .dataframe tbody tr th {\n",
       "        vertical-align: top;\n",
       "    }\n",
       "\n",
       "    .dataframe thead th {\n",
       "        text-align: right;\n",
       "    }\n",
       "</style>\n",
       "<table border=\"1\" class=\"dataframe\">\n",
       "  <thead>\n",
       "    <tr style=\"text-align: right;\">\n",
       "      <th></th>\n",
       "      <th>valor</th>\n",
       "    </tr>\n",
       "    <tr>\n",
       "      <th>ano</th>\n",
       "      <th></th>\n",
       "    </tr>\n",
       "  </thead>\n",
       "  <tbody>\n",
       "    <tr>\n",
       "      <th>2021</th>\n",
       "      <td>3075654559.69</td>\n",
       "    </tr>\n",
       "    <tr>\n",
       "      <th>2022</th>\n",
       "      <td>3334260450.79</td>\n",
       "    </tr>\n",
       "    <tr>\n",
       "      <th>2023</th>\n",
       "      <td>4164190388.32</td>\n",
       "    </tr>\n",
       "    <tr>\n",
       "      <th>2024</th>\n",
       "      <td>588414968.23</td>\n",
       "    </tr>\n",
       "  </tbody>\n",
       "</table>\n",
       "</div>"
      ],
      "text/plain": [
       "             valor\n",
       "ano               \n",
       "2021 3075654559.69\n",
       "2022 3334260450.79\n",
       "2023 4164190388.32\n",
       "2024  588414968.23"
      ]
     },
     "execution_count": 315,
     "metadata": {},
     "output_type": "execute_result"
    }
   ],
   "source": [
    "total_ano = df[[\"ano\", \"valor\"]].groupby(\"ano\").sum()\n",
    "total_ano"
   ]
  },
  {
   "cell_type": "markdown",
   "metadata": {},
   "source": [
    "## Total por trimestre"
   ]
  },
  {
   "cell_type": "code",
   "execution_count": 316,
   "metadata": {},
   "outputs": [
    {
     "data": {
      "text/html": [
       "<div>\n",
       "<style scoped>\n",
       "    .dataframe tbody tr th:only-of-type {\n",
       "        vertical-align: middle;\n",
       "    }\n",
       "\n",
       "    .dataframe tbody tr th {\n",
       "        vertical-align: top;\n",
       "    }\n",
       "\n",
       "    .dataframe thead th {\n",
       "        text-align: right;\n",
       "    }\n",
       "</style>\n",
       "<table border=\"1\" class=\"dataframe\">\n",
       "  <thead>\n",
       "    <tr style=\"text-align: right;\">\n",
       "      <th></th>\n",
       "      <th></th>\n",
       "      <th>valor</th>\n",
       "    </tr>\n",
       "    <tr>\n",
       "      <th>trimestre</th>\n",
       "      <th>ano</th>\n",
       "      <th></th>\n",
       "    </tr>\n",
       "  </thead>\n",
       "  <tbody>\n",
       "    <tr>\n",
       "      <th>2021Q1</th>\n",
       "      <th>2021</th>\n",
       "      <td>712162231.30</td>\n",
       "    </tr>\n",
       "    <tr>\n",
       "      <th>2021Q2</th>\n",
       "      <th>2021</th>\n",
       "      <td>621736468.73</td>\n",
       "    </tr>\n",
       "    <tr>\n",
       "      <th>2021Q3</th>\n",
       "      <th>2021</th>\n",
       "      <td>717286518.91</td>\n",
       "    </tr>\n",
       "    <tr>\n",
       "      <th>2021Q4</th>\n",
       "      <th>2021</th>\n",
       "      <td>1024469340.75</td>\n",
       "    </tr>\n",
       "    <tr>\n",
       "      <th>2022Q1</th>\n",
       "      <th>2022</th>\n",
       "      <td>802851258.94</td>\n",
       "    </tr>\n",
       "    <tr>\n",
       "      <th>2022Q2</th>\n",
       "      <th>2022</th>\n",
       "      <td>833690469.10</td>\n",
       "    </tr>\n",
       "    <tr>\n",
       "      <th>2022Q3</th>\n",
       "      <th>2022</th>\n",
       "      <td>782533541.97</td>\n",
       "    </tr>\n",
       "    <tr>\n",
       "      <th>2022Q4</th>\n",
       "      <th>2022</th>\n",
       "      <td>915185180.78</td>\n",
       "    </tr>\n",
       "    <tr>\n",
       "      <th>2023Q1</th>\n",
       "      <th>2023</th>\n",
       "      <td>958527482.63</td>\n",
       "    </tr>\n",
       "    <tr>\n",
       "      <th>2023Q2</th>\n",
       "      <th>2023</th>\n",
       "      <td>895809690.58</td>\n",
       "    </tr>\n",
       "    <tr>\n",
       "      <th>2023Q3</th>\n",
       "      <th>2023</th>\n",
       "      <td>1087314782.18</td>\n",
       "    </tr>\n",
       "    <tr>\n",
       "      <th>2023Q4</th>\n",
       "      <th>2023</th>\n",
       "      <td>1222538432.93</td>\n",
       "    </tr>\n",
       "    <tr>\n",
       "      <th>2024Q1</th>\n",
       "      <th>2024</th>\n",
       "      <td>588414968.23</td>\n",
       "    </tr>\n",
       "  </tbody>\n",
       "</table>\n",
       "</div>"
      ],
      "text/plain": [
       "                       valor\n",
       "trimestre ano               \n",
       "2021Q1    2021  712162231.30\n",
       "2021Q2    2021  621736468.73\n",
       "2021Q3    2021  717286518.91\n",
       "2021Q4    2021 1024469340.75\n",
       "2022Q1    2022  802851258.94\n",
       "2022Q2    2022  833690469.10\n",
       "2022Q3    2022  782533541.97\n",
       "2022Q4    2022  915185180.78\n",
       "2023Q1    2023  958527482.63\n",
       "2023Q2    2023  895809690.58\n",
       "2023Q3    2023 1087314782.18\n",
       "2023Q4    2023 1222538432.93\n",
       "2024Q1    2024  588414968.23"
      ]
     },
     "execution_count": 316,
     "metadata": {},
     "output_type": "execute_result"
    }
   ],
   "source": [
    "total_trimestre = df[[\"trimestre\",\"ano\",\"valor\"]].groupby([\"trimestre\", \"ano\"]).sum()\n",
    "total_trimestre"
   ]
  },
  {
   "cell_type": "markdown",
   "metadata": {},
   "source": [
    "## Total por receita"
   ]
  },
  {
   "cell_type": "code",
   "execution_count": 317,
   "metadata": {},
   "outputs": [
    {
     "data": {
      "text/html": [
       "<div>\n",
       "<style scoped>\n",
       "    .dataframe tbody tr th:only-of-type {\n",
       "        vertical-align: middle;\n",
       "    }\n",
       "\n",
       "    .dataframe tbody tr th {\n",
       "        vertical-align: top;\n",
       "    }\n",
       "\n",
       "    .dataframe thead th {\n",
       "        text-align: right;\n",
       "    }\n",
       "</style>\n",
       "<table border=\"1\" class=\"dataframe\">\n",
       "  <thead>\n",
       "    <tr style=\"text-align: right;\">\n",
       "      <th></th>\n",
       "      <th></th>\n",
       "      <th></th>\n",
       "      <th>valor</th>\n",
       "    </tr>\n",
       "    <tr>\n",
       "      <th>trimestre</th>\n",
       "      <th>ano</th>\n",
       "      <th>descricao_receita</th>\n",
       "      <th></th>\n",
       "    </tr>\n",
       "  </thead>\n",
       "  <tbody>\n",
       "    <tr>\n",
       "      <th rowspan=\"5\" valign=\"top\">2021Q1</th>\n",
       "      <th rowspan=\"5\" valign=\"top\">2021</th>\n",
       "      <th>COMPENSACOES FINANCEIRAS ENTRE O REGIME GERAL E OS REGIMES PROPRIOS DE PREVIDENCIA DOS SER</th>\n",
       "      <td>1892916.18</td>\n",
       "    </tr>\n",
       "    <tr>\n",
       "      <th>CONTRIBUICAO PARA O CUSTEIO DO SERVICO DE ILUMINACAO PUBLICA - PRINCIPAL</th>\n",
       "      <td>12364705.75</td>\n",
       "    </tr>\n",
       "    <tr>\n",
       "      <th>CONTRIBUICAO PATRONAL DE SERVIDOR ATIVO CIVIL PARA O RPPS - PRINCIPAL</th>\n",
       "      <td>4126.53</td>\n",
       "    </tr>\n",
       "    <tr>\n",
       "      <th>COTA - PARTE DO IPI - MUNICIPIOS - PRINCIPAL</th>\n",
       "      <td>958132.75</td>\n",
       "    </tr>\n",
       "    <tr>\n",
       "      <th>COTA-PARTE DA CONTRIBUICAO DE INTERVENCAO NO DOMINIO ECONOMICO - PRINCIPAL</th>\n",
       "      <td>68992.65</td>\n",
       "    </tr>\n",
       "    <tr>\n",
       "      <th>...</th>\n",
       "      <th>...</th>\n",
       "      <th>...</th>\n",
       "      <td>...</td>\n",
       "    </tr>\n",
       "    <tr>\n",
       "      <th rowspan=\"5\" valign=\"top\">2024Q1</th>\n",
       "      <th rowspan=\"5\" valign=\"top\">2024</th>\n",
       "      <th>TRANSFERENCIAS DE RECURSOS DO FUNDO DE MANUTENCAO E DESENVOLVIMENTO DA EDUCACAO BASICA E D</th>\n",
       "      <td>73134734.15</td>\n",
       "    </tr>\n",
       "    <tr>\n",
       "      <th>TRANSFERENCIAS DE RECURSOS DO FUNDO NACIONAL DE ASSISTENCIA SOCIAL ? FNAS - PRINCIPAL</th>\n",
       "      <td>966243.51</td>\n",
       "    </tr>\n",
       "    <tr>\n",
       "      <th>TRANSFERENCIAS DE RECUSOS DO SISTEMA UNICO DE SAUDE - SUS</th>\n",
       "      <td>950313.11</td>\n",
       "    </tr>\n",
       "    <tr>\n",
       "      <th>TRANSFERENCIAS DIRETAS DO FNDE REFERENTES AO PROGRAMA NACIONAL DE ALIMENTACAO ESCOLAR ? PN</th>\n",
       "      <td>1100540.25</td>\n",
       "    </tr>\n",
       "    <tr>\n",
       "      <th>TRANSFERENCIAS DO SALARIO-EDUCACAO - PRINCIPAL</th>\n",
       "      <td>1242823.25</td>\n",
       "    </tr>\n",
       "  </tbody>\n",
       "</table>\n",
       "<p>729 rows × 1 columns</p>\n",
       "</div>"
      ],
      "text/plain": [
       "                                                                        valor\n",
       "trimestre ano  descricao_receita                                             \n",
       "2021Q1    2021 COMPENSACOES FINANCEIRAS ENTRE O REGIME GERAL E...  1892916.18\n",
       "               CONTRIBUICAO PARA O CUSTEIO DO SERVICO DE ILUMI... 12364705.75\n",
       "               CONTRIBUICAO PATRONAL DE SERVIDOR ATIVO CIVIL P...     4126.53\n",
       "               COTA - PARTE DO IPI - MUNICIPIOS - PRINCIPAL         958132.75\n",
       "               COTA-PARTE DA CONTRIBUICAO DE INTERVENCAO NO DO...    68992.65\n",
       "...                                                                       ...\n",
       "2024Q1    2024 TRANSFERENCIAS DE RECURSOS DO FUNDO DE MANUTENC... 73134734.15\n",
       "               TRANSFERENCIAS DE RECURSOS DO FUNDO NACIONAL DE...   966243.51\n",
       "               TRANSFERENCIAS DE RECUSOS DO SISTEMA UNICO DE S...   950313.11\n",
       "               TRANSFERENCIAS DIRETAS DO FNDE REFERENTES AO PR...  1100540.25\n",
       "               TRANSFERENCIAS DO SALARIO-EDUCACAO - PRINCIPAL      1242823.25\n",
       "\n",
       "[729 rows x 1 columns]"
      ]
     },
     "execution_count": 317,
     "metadata": {},
     "output_type": "execute_result"
    }
   ],
   "source": [
    "total_receita = df[[\"ano\",\"trimestre\",\"descricao_receita\",\"valor\"]].groupby([\"trimestre\",\"ano\",\"descricao_receita\"]).sum()\n",
    "\n",
    "\n",
    "total_receita\n"
   ]
  },
  {
   "cell_type": "code",
   "execution_count": 321,
   "metadata": {},
   "outputs": [
    {
     "data": {
      "text/plain": [
       "<Axes: >"
      ]
     },
     "execution_count": 321,
     "metadata": {},
     "output_type": "execute_result"
    },
    {
     "data": {
      "image/png": "[encoded data removed]",
      "text/plain": [
       "<Figure size 640x480 with 1 Axes>"
      ]
     },
     "metadata": {},
     "output_type": "display_data"
    }
   ],
   "source": [
    "valor_trimestre = df[[\"ano\",\"trimestre_id\",\"valor\"]]\n",
    "valor_trimestre = pd.pivot_table(valor_trimestre,\n",
    "                                 values=\"valor\",\n",
    "                                 columns=[\"trimestre_id\"],\n",
    "                                 index=[\"ano\"],\n",
    "                                 aggfunc=\"sum\")\n",
    "valor_trimestre = pd.DataFrame(valor_trimestre, index=valor_trimestre.index.values)\n",
    "valor_trimestre.plot.bar(rot=0)"
   ]
  }
 ],
 "metadata": {
  "kernelspec": {
   "display_name": ".venv",
   "language": "python",
   "name": "python3"
  },
  "language_info": {
   "codemirror_mode": {
    "name": "ipython",
    "version": 3
   },
   "file_extension": ".py",
   "mimetype": "text/x-python",
   "name": "python",
   "nbconvert_exporter": "python",
   "pygments_lexer": "ipython3",
   "version": "3.9.13"
  }
 },
 "nbformat": 4,
 "nbformat_minor": 2
}
